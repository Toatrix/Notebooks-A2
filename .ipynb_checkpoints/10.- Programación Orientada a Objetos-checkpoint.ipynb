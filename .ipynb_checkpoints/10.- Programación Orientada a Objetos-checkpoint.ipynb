{
 "cells": [
  {
   "cell_type": "markdown",
   "id": "301c0d4d-8cca-497b-a778-d78262aff151",
   "metadata": {},
   "source": [
    "# 10.- Programación Orientada a Objetos"
   ]
  },
  {
   "cell_type": "markdown",
   "id": "ccb9c437-96be-4ed0-9d2a-15237fa3c108",
   "metadata": {},
   "source": [
    "## 10.2.- Metodos y Clases"
   ]
  },
  {
   "cell_type": "markdown",
   "id": "6de2362b-82ba-44ab-b7ed-61b7daf0ed83",
   "metadata": {},
   "source": [
    "Vamos a crear una clase \"Mascota\" con los atributos tipo (pequeño), raza (chihuahaua), y tarea (guardian)\n",
    "\n",
    "Imprime los atributos raza y tarea"
   ]
  },
  {
   "cell_type": "markdown",
   "id": "b65f587a-8313-4812-b809-3d9769b56fbc",
   "metadata": {},
   "source": [
    "La POO puede hacer un codigo más claro, flexible y fácil de manter.\n",
    "\n",
    "1- Modularidad: La POO permite organizar el código en modulos independientes (clases y objetos) lo que facilita la reutilización y mantenimiento del código. Por ejempño puedes usar crear clases para representar diferentes tipos de datos o modelos y luego usar esos objetos en diferentes partes. La modularidad en la programación orientada a objetos (POO) es la capacidad de dividir una aplicación en módulos más pequeños, que sean independientes entre sí y de la aplicación completa. \n",
    " \n",
    "La modularidad se relaciona con el diseño modular, que consiste en dividir un sistema en partes pequeñas que funcionen de manera independiente\n",
    "\n",
    "2-Abstraccion: Con la POO se puede trabjar con abstracciones de alto nivel sin tener que preocuparte por los detalles de implementación. Ejemplo una clase podría representar un modelo de ML y podrías trabajr con el objeto de esa sin tener que saber como funciona internamente. \n",
    "Se enfoca en la visión externa de un objeto,  separa el comportamiento  específico de un objeto, a esta división que realiza se le conoce como la barrera de abstracción, la cuál se consigue aplicando el principio de mínimo compromiso.\n",
    "\n",
    "3- Encapsulamiento: La POO permite proteger datos y metodos de una clase, de modo que solo se pueden modificar a traves de metodos especificos (getter & setter). Esto ayuda  que los datos no se corrompan y que el comportamiento del objeto sea predecible.\n",
    "\n",
    "La encapsulación es un principio fundamental de la POO que implica agrupar datos y métodos relacionados en una clase, controlando su acceso y protegiendo la integridad de los datos.\n",
    "\n",
    "4-Polimorfismo: La POO permite que los objetos de diferentes clases se traten como objetos de una clase comun. Util cuando trabajas con diferentes tipos de modelos o datos, pero deseas interactuar con ellos de manera uniforme. \n",
    "\n",
    "5-Herencia:Es lo mismo que en la programación orientad a objetos. Tenemos una clase padre, y las clases hijas heredan funcionalidades y atributos, pero no son idénticas. Solamente aprovechan eso que ya existen y luego se le añaden nuevas cosas.\n",
    "\n",
    "Es la capacidad que tienen ciertos lenguajes para hacer que, al enviar el mismo mensaje (o, en otras palabras, invocar al mismo método) desde distintos objetos, cada uno de esos objetos pueda responder a ese mensaje (o a esa invocación) de forma distinta."
   ]
  },
  {
   "cell_type": "code",
   "execution_count": 65,
   "id": "09a84054-7ebb-4fb2-8888-e22c0dac7d69",
   "metadata": {},
   "outputs": [],
   "source": [
    "class Mascota : \n",
    "    # atributos\n",
    "    tamaño=\"pequeño\"\n",
    "    raza=\"chihuahua\"\n",
    "    tarea=\"guardian\""
   ]
  },
  {
   "cell_type": "code",
   "execution_count": 19,
   "id": "1534e1dc-9b27-49a9-95b8-763c1e396c53",
   "metadata": {},
   "outputs": [],
   "source": [
    "perro=mascota()#los parentesis finales se usan para instaciar es decir crear el objeto de esa clase. Cuando defines una clase en Python, estás creando una plantilla o modelo que \n",
    "#describe un tipo de \n",
    "#En resumen, debes usar los paréntesis (perro = Mascota()) para crear una instancia de la clase Mascota. Esto es lo que te permite trabajar con un objeto que tiene todas las \n",
    "#propiedades y métodos definidos en esa clase.\n",
    "#perro ahora es una instancia u objeto de la clase mascota\n",
    "#mascota es la clase o plantilla \n",
    "#se puede crear nuevas instancias que serán del mismo tipo (mascota)"
   ]
  },
  {
   "cell_type": "code",
   "execution_count": 67,
   "id": "2a4e27e7-2918-4b07-a2fb-c2ac18c3682d",
   "metadata": {},
   "outputs": [
    {
     "name": "stdout",
     "output_type": "stream",
     "text": [
      "chihuahua\n"
     ]
    }
   ],
   "source": [
    "print(perro.raza)"
   ]
  },
  {
   "cell_type": "markdown",
   "id": "91f895d9-1fc3-42b6-beb1-e749b8ee4f31",
   "metadata": {},
   "source": [
    "Cambia el atributo tarea por amigo, imprimelo"
   ]
  },
  {
   "cell_type": "code",
   "execution_count": 71,
   "id": "83464d55-1eb2-4392-bdef-92c4393367be",
   "metadata": {},
   "outputs": [],
   "source": [
    "setattr(perro,\"tarea\",\"amigo\")"
   ]
  },
  {
   "cell_type": "code",
   "execution_count": 63,
   "id": "3f84c39b-7f81-41a3-b55b-1f345c81f106",
   "metadata": {},
   "outputs": [
    {
     "name": "stdout",
     "output_type": "stream",
     "text": [
      "amigo\n"
     ]
    }
   ],
   "source": [
    "print(perro.tarea)"
   ]
  },
  {
   "cell_type": "markdown",
   "id": "f2748954-7a2e-45c7-90cf-80d93442e371",
   "metadata": {},
   "source": [
    "Borra el atributo de tarea, intenta imprimirlo"
   ]
  },
  {
   "cell_type": "code",
   "execution_count": 55,
   "id": "26bb282e-461d-4093-9e33-3b2de4ee07cb",
   "metadata": {},
   "outputs": [],
   "source": [
    "delattr(perro,\"tarea\")#si se ejecuta se borra el atributo anterior osea el de amigo "
   ]
  },
  {
   "cell_type": "code",
   "execution_count": 73,
   "id": "7348a313-4b2e-45db-b10e-6ca96acbfa52",
   "metadata": {},
   "outputs": [
    {
     "name": "stdout",
     "output_type": "stream",
     "text": [
      "amigo\n"
     ]
    }
   ],
   "source": [
    "print(perro.tarea)#aqui se imprime guardian"
   ]
  },
  {
   "cell_type": "markdown",
   "id": "b0882dd9-6743-465a-9e46-4cd1a2c49d9e",
   "metadata": {},
   "source": [
    "Vamos a hacer ahora un registro de aspirante a un puesto, creamos una clase \"Registro\""
   ]
  },
  {
   "cell_type": "code",
   "execution_count": 75,
   "id": "8143fd46-f4a5-4956-acaa-4ecc573a03a6",
   "metadata": {},
   "outputs": [],
   "source": [
    "class Registro:\n",
    "    pass #el pass significa una clase pero sin atributo"
   ]
  },
  {
   "cell_type": "markdown",
   "id": "2e2c857f-b577-4e1e-a154-b36a9834ccd8",
   "metadata": {},
   "source": [
    "Y ahora crearemos los objetos Eva, Laura y LUis, les daremos atributos de Edad, Experiencia y Edo civil"
   ]
  },
  {
   "cell_type": "code",
   "execution_count": 91,
   "id": "e2ba259d-ec62-4b9f-9ba6-2b10e81409de",
   "metadata": {},
   "outputs": [],
   "source": [
    "eva = Registro()\n",
    "eva.edad=30\n",
    "eva.experciencia=6\n",
    "eva.edo_civil=\"soltera\""
   ]
  },
  {
   "cell_type": "code",
   "execution_count": 93,
   "id": "4cd689f8-f0a4-4016-a490-e63ccac98f0d",
   "metadata": {},
   "outputs": [
    {
     "name": "stdout",
     "output_type": "stream",
     "text": [
      "<__main__.Registro object at 0x11dd35d00>\n"
     ]
    }
   ],
   "source": [
    "print(eva)"
   ]
  },
  {
   "cell_type": "code",
   "execution_count": 95,
   "id": "03b7525a-6b70-4cba-8361-4655205429a5",
   "metadata": {},
   "outputs": [],
   "source": [
    "laura=Registro()\n",
    "luis=Registro()"
   ]
  },
  {
   "cell_type": "code",
   "execution_count": 97,
   "id": "9f258e57-429d-402a-9635-3cb76a05f4a7",
   "metadata": {},
   "outputs": [],
   "source": [
    "laura.edad=34\n",
    "laura.experciencia=4\n",
    "laura.edo_civil=\"soltera\"\n",
    "luis.edad=23\n",
    "luis.experciencia=1\n",
    "luis.edo_civil=\"casado\""
   ]
  },
  {
   "cell_type": "markdown",
   "id": "ca1e9b0f-2cff-45af-bae7-3a8b2eed747e",
   "metadata": {},
   "source": [
    "Imprimamos 1 atributo por persona"
   ]
  },
  {
   "cell_type": "code",
   "execution_count": 101,
   "id": "a7863dc2-f073-423d-afc2-acf8839f86ee",
   "metadata": {},
   "outputs": [
    {
     "data": {
      "text/plain": [
       "23"
      ]
     },
     "execution_count": 101,
     "metadata": {},
     "output_type": "execute_result"
    }
   ],
   "source": [
    "luis.edad"
   ]
  },
  {
   "cell_type": "code",
   "execution_count": 103,
   "id": "b5c19808-174c-4d74-b513-11328b406043",
   "metadata": {},
   "outputs": [
    {
     "data": {
      "text/plain": [
       "'soltera'"
      ]
     },
     "execution_count": 103,
     "metadata": {},
     "output_type": "execute_result"
    }
   ],
   "source": [
    "laura.edo_civil"
   ]
  },
  {
   "cell_type": "markdown",
   "id": "1e50df73-61f0-47d0-bed0-420d0667038c",
   "metadata": {},
   "source": [
    "Ahora creemos la clase \"Oferta\", que tendrá una función aplicada a ella llamda Descuento - sus valores iniciales seran un costo de 1200 y un descuento del 0.15"
   ]
  },
  {
   "cell_type": "code",
   "execution_count": 105,
   "id": "3c31bcef-0591-495b-843e-c634c26e772b",
   "metadata": {},
   "outputs": [],
   "source": [
    "class Oferta:\n",
    "    def descuento(self): #parametro self es referencia a la instancia actual de la clase, manera en q los metodos dentro de una clase pueden acceder y modificar los atributos\n",
    "        self.costo=1200 #no es palabra reservada es convencion\n",
    "        self.descuento=.15\n",
    "#Si no usas self y simplemente escribes costo = 1200, estarías creando variables locales dentro del método, no atributos del objeto. Es decir, esas variables solo existirían \n",
    "#mientras se ejecuta el método y no serían accesibles fuera de él. Por ejemplo:\n",
    "\n",
    "#class Oferta:\n",
    "#    def descuento(self):\n",
    "#        costo = 1200  # Esto es una variable local, no un atributo del objeto\n",
    "#        descuento = 0.\n",
    "#En este caso, costo y descuento solo existirían dentro del método descuento(), y no podrías acceder a ellos desde fuera como oferta1.costo o oferta1.descuento.\n",
    "#Por eso es crucial usar self para referirte a los atributos que deben ser parte de la instancia de la clase."
   ]
  },
  {
   "cell_type": "markdown",
   "id": "9ece6e2d-5b06-468d-ad11-09aa153848ca",
   "metadata": {},
   "source": [
    "Ahora bamos a construir un objeto llamado rebaja"
   ]
  },
  {
   "cell_type": "code",
   "execution_count": 117,
   "id": "772e4182-afc6-49f4-9a49-740d5c0e3723",
   "metadata": {},
   "outputs": [],
   "source": [
    "rebaja=Oferta()"
   ]
  },
  {
   "cell_type": "code",
   "execution_count": 119,
   "id": "3c577c1e-3a97-427f-83fd-58aff54c4028",
   "metadata": {},
   "outputs": [],
   "source": [
    "rebaja.descuento()"
   ]
  },
  {
   "cell_type": "markdown",
   "id": "141adf2c-b553-410b-8bab-f2156f247c83",
   "metadata": {},
   "source": [
    "Y ahora imprimamos el resultado de multiplicar costo por rebaja"
   ]
  },
  {
   "cell_type": "code",
   "execution_count": 123,
   "id": "367562a1-d720-4a66-85c3-ce3d42e6d1af",
   "metadata": {},
   "outputs": [
    {
     "name": "stdout",
     "output_type": "stream",
     "text": [
      "180.0\n"
     ]
    }
   ],
   "source": [
    "print(rebaja.costo*rebaja.descuento)"
   ]
  },
  {
   "cell_type": "markdown",
   "id": "5eeb42af-4c52-4c34-9c3b-1aade04d6890",
   "metadata": {},
   "source": [
    "## 10.3.- La clase \"Cuenta\""
   ]
  },
  {
   "cell_type": "markdown",
   "id": "08f77a21-f430-482d-908a-2b82fdcac649",
   "metadata": {},
   "source": [
    "Ahora vamos a crear una clase que simule una cuenta de banco\n",
    "\n",
    "La clase tendrá 2 funciones - la inicial para marcar el nombre y ahorro, y la de deposito para irle sumando dinero a la cuenta"
   ]
  },
  {
   "cell_type": "code",
   "execution_count": 143,
   "id": "5a9ff1e0-2664-4e59-8415-89444f6786b8",
   "metadata": {},
   "outputs": [],
   "source": [
    "from decimal import Decimal\n",
    "class Cuenta:\n",
    "    def __init__(self,nombre,ahorro):\n",
    "        if ahorro <Decimal ('0.00'):\n",
    "            raise ValueError('El capital inicial debe ser mayor a $0')\n",
    "        self.nombre=nombre\n",
    "        self.ahorro=ahorro\n",
    "\n",
    "    def deposito (self,cantidad):\n",
    "        if cantidad<Decimal('0.00'):\n",
    "            raise ValueError('La cantidad debe ser positiva')\n",
    "        self.ahorro+=cantidad\n",
    "    "
   ]
  },
  {
   "cell_type": "markdown",
   "id": "ca99f4c6-9064-44ef-8742-d0b248ca5dac",
   "metadata": {},
   "source": [
    "Vamos creando una cuenta 1 para juan con 2000 pesos"
   ]
  },
  {
   "cell_type": "code",
   "execution_count": 155,
   "id": "f9a3cdb1-a068-475c-8e72-16c526ba5a26",
   "metadata": {},
   "outputs": [],
   "source": [
    "cuenta1=Cuenta(\"Juan\",2000)"
   ]
  },
  {
   "cell_type": "markdown",
   "id": "c791ae2b-b8df-4499-b9e8-0ee92cfb6876",
   "metadata": {},
   "source": [
    "Imprime tus resultados"
   ]
  },
  {
   "cell_type": "code",
   "execution_count": 157,
   "id": "0c3e6017-1842-4761-83e5-25751d1c1973",
   "metadata": {},
   "outputs": [
    {
     "name": "stdout",
     "output_type": "stream",
     "text": [
      "Juan\n"
     ]
    }
   ],
   "source": [
    "print(cuenta1.nombre)"
   ]
  },
  {
   "cell_type": "code",
   "execution_count": 159,
   "id": "db6fd425-28e6-4d4b-8e89-1bcc4ef03361",
   "metadata": {},
   "outputs": [
    {
     "name": "stdout",
     "output_type": "stream",
     "text": [
      "2000\n"
     ]
    }
   ],
   "source": [
    "print(cuenta1.ahorro)"
   ]
  },
  {
   "cell_type": "markdown",
   "id": "fe829ffa-fd59-4295-aee1-079670d5f18d",
   "metadata": {},
   "source": [
    "Ahora hagamos un depostio de 500"
   ]
  },
  {
   "cell_type": "code",
   "execution_count": 169,
   "id": "0bc77a85-b47c-47e1-aeb6-0ef1443b1d18",
   "metadata": {},
   "outputs": [],
   "source": [
    "cuenta1.deposito(500)"
   ]
  },
  {
   "cell_type": "code",
   "execution_count": 171,
   "id": "5de5adda-ba59-40e9-a206-d14086ca6deb",
   "metadata": {},
   "outputs": [
    {
     "name": "stdout",
     "output_type": "stream",
     "text": [
      "2500\n"
     ]
    }
   ],
   "source": [
    "print(cuenta1.ahorro)"
   ]
  },
  {
   "cell_type": "markdown",
   "id": "23d3ebd2-af37-42db-b5f9-d1e8b41cbbf7",
   "metadata": {},
   "source": [
    "Que pasa si queremos hacer un deposito negativo?"
   ]
  },
  {
   "cell_type": "code",
   "execution_count": null,
   "id": "19ec39b3-2f11-4d85-8695-8d26624ad4f7",
   "metadata": {},
   "outputs": [],
   "source": []
  },
  {
   "cell_type": "markdown",
   "id": "f7d45aed-d55e-4da1-b0b2-c7cf5a7dadfe",
   "metadata": {},
   "source": [
    "## 10.4.- Herencia"
   ]
  },
  {
   "cell_type": "markdown",
   "id": "55c782ea-1ebd-4821-85e1-c3fcc9ea189c",
   "metadata": {},
   "source": [
    "En los anteriores ejemplos siempre estuvo presente una sola clase. Ahora revisarás el caso en que\n",
    "se encuentran definidas varias clases, pero con la característica, de que hay una clase inicial que\n",
    "las demás invocan. A esto se le llama herencia, y constituye una de las características fundamentales\n",
    "en la programación orientada a objetos. A esta clase inicial se le llama padre, y a las otras se\n",
    "les llama clases hijos, de aquí el nombre de herencia."
   ]
  },
  {
   "cell_type": "markdown",
   "id": "08cc0b28-878a-488e-bba1-09b766ee99be",
   "metadata": {},
   "source": [
    "## 10.5.- La clase Personal"
   ]
  },
  {
   "cell_type": "markdown",
   "id": "ff3cd80e-1c97-4d9e-8264-f4d7732d59be",
   "metadata": {},
   "source": [
    "Ahora vamos a simular el personal que labora en una fabrica\n",
    "\n",
    "Creemos la clase Personal, con un afunción que define el nombre, profesión y cargo, y otra función llama detalle que devuelve la oración \"\" es un \"\" y tiene el cargo de \"\""
   ]
  },
  {
   "cell_type": "code",
   "execution_count": 190,
   "id": "f1739209-3b9b-4925-af9b-f6e21edba7da",
   "metadata": {},
   "outputs": [],
   "source": [
    "class Personal:\n",
    "    def __init__ (self,nombre,profesion,cargo):#el metodo init es un constructor. \n",
    "        self.nombre=nombre\n",
    "        self.profesion=profesion\n",
    "        self.cargo=cargo\n",
    "    def detalle(self):\n",
    "        return'{} es un {} y tiene el cargo de {}'.format(self.nombre,self.profesion,self.cargo)"
   ]
  },
  {
   "cell_type": "markdown",
   "id": "6c2d3b30-aad3-4184-8553-aed19fa63e0a",
   "metadata": {},
   "source": [
    "__init__ ; es un constructor , meetodo especial que se llama automaticamente caundo creas una nueva instancia de una clase. Su proposito incial es iniciaizar los atributos de esa instancia .\n",
    "El método __init__ te permite inicializar atributos de una manera flexible cuando se crea un objeto. Sin él, tendrías que crear los objetos y luego asignar manualmente cada atributo después de la creación. Usar __init__ es más limpio y te asegura que cada objeto siempre se inicializa con los valores correctos.\n"
   ]
  },
  {
   "cell_type": "markdown",
   "id": "2ebd7952-cd1a-4ec6-8351-ebedb0ba64ba",
   "metadata": {},
   "source": [
    "Ahora se muestran estas 2 clases, llamadas pers_nuevo y pers_advo, y heredan la estructura d ela primera"
   ]
  },
  {
   "cell_type": "code",
   "execution_count": 245,
   "id": "0f3169aa-444b-461c-a9aa-fd49057ab977",
   "metadata": {},
   "outputs": [],
   "source": [
    "class pers_nuevo(Personal):\n",
    "    def contratacion(self,contrato):\n",
    "        return '{} tiene contrato:{}'.format(self.nombre,contrato)"
   ]
  },
  {
   "cell_type": "code",
   "execution_count": 247,
   "id": "b6b26076-a069-4482-9cba-afe5391121f3",
   "metadata": {},
   "outputs": [],
   "source": [
    "class pers_advo(Personal):\n",
    "    def contratacion(self,contrato):\n",
    "        return '{} tiene contrato:{}'.format(self.nombre,contrato)"
   ]
  },
  {
   "cell_type": "markdown",
   "id": "4a97aee6-4445-4e04-b400-48d6a8646fd3",
   "metadata": {},
   "source": [
    "Ahora vamos a crear un constructor apara diseñar un bojeto de clase pers_nuevo, que tendrá los atributos de Personal y también el metodo detalle"
   ]
  },
  {
   "cell_type": "code",
   "execution_count": 249,
   "id": "9a266767-0657-4df4-bf7b-efd69f7e2e7f",
   "metadata": {},
   "outputs": [],
   "source": [
    "ingeniero=pers_nuevo('Paco','Ingeniero en sistemas','Supervisor')"
   ]
  },
  {
   "cell_type": "code",
   "execution_count": 251,
   "id": "e5431849-de13-41b6-9e3e-2531b583d349",
   "metadata": {},
   "outputs": [
    {
     "name": "stdout",
     "output_type": "stream",
     "text": [
      "Paco es un Ingeniero en sistemas y tiene el cargo de Supervisor\n"
     ]
    }
   ],
   "source": [
    "print(ingeniero.detalle())"
   ]
  },
  {
   "cell_type": "code",
   "execution_count": 253,
   "id": "345d7393-11f7-4ff2-91ea-56a118364dc4",
   "metadata": {},
   "outputs": [
    {
     "name": "stdout",
     "output_type": "stream",
     "text": [
      "Paco tiene contrato:Temporal\n"
     ]
    }
   ],
   "source": [
    "print(ingeniero.contratacion('Temporal'))"
   ]
  },
  {
   "cell_type": "markdown",
   "id": "b64c3024-e72b-4681-a182-10c417c841ab",
   "metadata": {},
   "source": [
    "También puedes solicitar del objeto ingeniero, con los atributos de las otras clases"
   ]
  },
  {
   "cell_type": "code",
   "execution_count": null,
   "id": "6c518aba-c175-4ba7-bcb9-5b097b75c048",
   "metadata": {},
   "outputs": [],
   "source": []
  },
  {
   "cell_type": "markdown",
   "id": "5caa1784-0aaf-4d29-9c06-606cfb03a00c",
   "metadata": {},
   "source": [
    "Ahora con la clase Cuenta\n",
    "\n",
    "Importemos decimal\n",
    "\n",
    "y luego definamos cuenta, con de la siguiente manera"
   ]
  },
  {
   "cell_type": "code",
   "execution_count": 255,
   "id": "6bb17119-9db9-4286-89a6-91e60ba6c89a",
   "metadata": {},
   "outputs": [],
   "source": [
    "class Cuenta:\n",
    "    def __init__(self,nombre,capital):\n",
    "        if capital<0:\n",
    "            raise ValueError(\"El capita debe ser mayor a 0\")\n",
    "        self.nombre=nombre\n",
    "        self.capital=capital\n",
    "    def informacion(self):\n",
    "        return '{} tiene en su cuenta {}'.format(self.nombre,self.capital)"
   ]
  },
  {
   "cell_type": "markdown",
   "id": "a4cc372b-26dc-43b3-84b3-a0b45dd9d2f9",
   "metadata": {},
   "source": [
    "Y ahora vamos a darle 2 subclases, la de ahorro y la de gasto. EN la de ahorro nos aseguraremos de devolver la frase \"\" tiene ahora en su cuenta \"\""
   ]
  },
  {
   "cell_type": "code",
   "execution_count": 288,
   "id": "b15db194-47a6-46d1-9292-2128372f367c",
   "metadata": {},
   "outputs": [],
   "source": [
    "class Ahorro (Cuenta):\n",
    "    def cantidad(self,deposito):\n",
    "        if deposito<0:\n",
    "            raise ValueError(\"La cantidad debe ser positiva\")\n",
    "        self.capital+=deposito\n",
    "        return '{} tiene ahora en su cuenta {}'.format(self.nombre,self.capital)"
   ]
  },
  {
   "cell_type": "markdown",
   "id": "78f1351e-af32-4e2f-b6c7-eed08a0aee95",
   "metadata": {},
   "source": [
    "Y en la de gasto vamos a retirar dinero, hay que asegurarse de que se puede hacer el retiro, y que devuelve una frase \"\" tiene ahora en su cuenta \"\""
   ]
  },
  {
   "cell_type": "code",
   "execution_count": 280,
   "id": "244cbf00-764d-410f-bca8-b47b0dd84bb5",
   "metadata": {},
   "outputs": [],
   "source": [
    "class Gasto (Cuenta):\n",
    "    def cantidad(self,retiro):\n",
    "        if retiro<0:\n",
    "            raise ValueError(\"La cantidad debe ser positiva\")\n",
    "            if retiro>capital:\n",
    "                raise ValueError(\"No hay dinero\")\n",
    "        self.capital-=deposito\n",
    "        return '{} tiene ahora en su cuenta {} '.format(self.nombre,self.capital)"
   ]
  },
  {
   "cell_type": "markdown",
   "id": "712cc1c0-da68-4790-84c1-8f9d039231c2",
   "metadata": {},
   "source": [
    "Ahora, vamos adefinir 2 objetos cuenta1 en ahorro y cuenta2 en gasto"
   ]
  },
  {
   "cell_type": "code",
   "execution_count": 292,
   "id": "29f95292-2f33-46df-a114-6ab3e01b2d17",
   "metadata": {},
   "outputs": [],
   "source": [
    "cuenta1=Ahorro(\"Juan\",2000)"
   ]
  },
  {
   "cell_type": "code",
   "execution_count": 264,
   "id": "9c30f409-dcbc-4e9e-a9bb-2ccc88b81ee6",
   "metadata": {},
   "outputs": [
    {
     "name": "stdout",
     "output_type": "stream",
     "text": [
      "Juan tiene en su cuenta 2000\n"
     ]
    }
   ],
   "source": [
    "print(cuanta1.informacion())"
   ]
  },
  {
   "cell_type": "code",
   "execution_count": 290,
   "id": "b959fb15-4e9a-4eab-97b7-a8469e2978a9",
   "metadata": {},
   "outputs": [
    {
     "data": {
      "text/plain": [
       "'Juan tiene ahora en su cuenta5000'"
      ]
     },
     "execution_count": 290,
     "metadata": {},
     "output_type": "execute_result"
    }
   ],
   "source": [
    "cuenta1.cantidad(1500)"
   ]
  },
  {
   "cell_type": "code",
   "execution_count": null,
   "id": "44914d74-d0a5-45ac-a578-06801c764ca2",
   "metadata": {},
   "outputs": [],
   "source": []
  },
  {
   "cell_type": "code",
   "execution_count": null,
   "id": "2c50caaf-af21-47a8-bc02-babac15b6489",
   "metadata": {},
   "outputs": [],
   "source": []
  },
  {
   "cell_type": "code",
   "execution_count": null,
   "id": "d067d7e7-7601-4514-9e62-eb4c5d17cbd1",
   "metadata": {},
   "outputs": [],
   "source": []
  },
  {
   "cell_type": "code",
   "execution_count": null,
   "id": "921757e9-e3a6-4ec5-baf7-f5b1a24e1d21",
   "metadata": {},
   "outputs": [],
   "source": []
  },
  {
   "cell_type": "markdown",
   "id": "ba8a6a34-72ab-47f1-b88b-5d3a60bb2502",
   "metadata": {},
   "source": [
    "Ahora el usuario retira 5000"
   ]
  },
  {
   "cell_type": "markdown",
   "id": "ece98648-e7ce-4337-bb6c-24027e2b4d31",
   "metadata": {},
   "source": [
    "## 10.6.- Métodos de Clase"
   ]
  },
  {
   "cell_type": "code",
   "execution_count": 336,
   "id": "14156792-cd44-44e7-a721-fd58409b660b",
   "metadata": {},
   "outputs": [
    {
     "name": "stdout",
     "output_type": "stream",
     "text": [
      "Emergencia(['Bomberos', 'Policía', 'Marque 131'])\n"
     ]
    }
   ],
   "source": [
    "class Emergencia:\n",
    "    def __init__(self, tipo):\n",
    "        self.tipo = tipo\n",
    "\n",
    "    def __repr__(self):\n",
    "        return f'Emergencia({self.tipo!r})'\n",
    "\n",
    "    @classmethod\n",
    "    def Colombia(cls):\n",
    "        return cls(['Accidente', 'Policía', 'Marque 123'])\n",
    "\n",
    "    @classmethod\n",
    "    def Salvador(cls):\n",
    "        return cls(['Accidente', 'Policía', 'Marque 911'])\n",
    "\n",
    "    @classmethod\n",
    "    def Paraguay(cls):\n",
    "        return cls(['Bomberos', 'Policía', 'Marque 131'])\n",
    "\n",
    "# Imprimir la emergencia en Paraguay\n",
    "print(Emergencia.Paraguay())"
   ]
  },
  {
   "cell_type": "code",
   "execution_count": null,
   "id": "855e2560-5ca8-4af4-a5ec-d5a870ba7f75",
   "metadata": {},
   "outputs": [],
   "source": []
  },
  {
   "cell_type": "code",
   "execution_count": 338,
   "id": "4ecb4225-71f2-46c5-b968-1eccdc65c0a3",
   "metadata": {},
   "outputs": [
    {
     "name": "stdout",
     "output_type": "stream",
     "text": [
      "Emergencia(['Policía', 'Ambulancia', 'Bomberos'], 911)\n"
     ]
    }
   ],
   "source": [
    "class Emergencia:\n",
    "    def __init__(self, emergencia, numero):\n",
    "        self.emergencia = emergencia\n",
    "        self.numero = numero\n",
    "\n",
    "    def __repr__(self):\n",
    "        return f'Emergencia({self.emergencia}, {self.numero})'\n",
    "\n",
    "    def pais(self):\n",
    "        return self.pais_emergencia(self.numero)\n",
    "\n",
    "    @staticmethod\n",
    "    def paises(A):\n",
    "        return 'Costa Rica, Ecuador, El Salvador, E.U., México'\n",
    "\n",
    "# Creación de una instancia de Emergencia\n",
    "nueva_emergencia = Emergencia(['Policía', 'Ambulancia', 'Bomberos'], 911)\n",
    "\n",
    "# Imprimir la representación de la nueva emergencia\n",
    "print(nueva_emergencia)"
   ]
  },
  {
   "cell_type": "code",
   "execution_count": 342,
   "id": "7b0a2d27-a716-4856-a3a8-5a8ba7530ccd",
   "metadata": {},
   "outputs": [
    {
     "name": "stdout",
     "output_type": "stream",
     "text": [
      "['Policía', 'Ambulancia', 'Bomberos']\n",
      "911\n",
      "Costa Rica, Ecuador, El Salvador, E.U., México\n"
     ]
    }
   ],
   "source": [
    "class Emergencia:\n",
    "    def __init__(self, emergencia, numero):\n",
    "        self.emergencia = emergencia\n",
    "        self.numero = numero\n",
    "\n",
    "    def __repr__(self):\n",
    "        return f'Emergencia({self.emergencia}, {self.numero})'\n",
    "\n",
    "    def pais(self):\n",
    "        return self.pais_emergencia(self.numero)\n",
    "\n",
    "    @staticmethod\n",
    "    def paises(A):\n",
    "        return 'Costa Rica, Ecuador, El Salvador, E.U., México'\n",
    "\n",
    "# Creación de una instancia de Emergencia\n",
    "nueva_emergencia = Emergencia(['Policía', 'Ambulancia', 'Bomberos'], 911)\n",
    "\n",
    "# Imprimir los atributos y el resultado del método estático\n",
    "print(nueva_emergencia.emergencia)  # Imprime: ['Policía', 'Ambulancia', 'Bomberos']\n",
    "print(nueva_emergencia.numero)      # Imprime: 911\n",
    "print(nueva_emergencia.paises(911)) # Imprime: 'Costa Rica, Ecuador, El Salvador, E.U., México'"
   ]
  },
  {
   "cell_type": "markdown",
   "id": "2c9c608f-7697-4da2-90a0-51ae3a640f6f",
   "metadata": {},
   "source": [
    "## 10.7.- Polimorfismo"
   ]
  },
  {
   "cell_type": "markdown",
   "id": "0b3389d2-20a8-4ff3-8303-865ad06049d9",
   "metadata": {},
   "source": [
    "Creemos 2 clases, un llamada matematicas y otra idioma - vamos a darles numeros de cretidos diferentes"
   ]
  },
  {
   "cell_type": "code",
   "execution_count": 294,
   "id": "702162f3-270e-4325-95b5-be52d5287e79",
   "metadata": {},
   "outputs": [],
   "source": [
    "class Matematicas:\n",
    "    num_creditos=8\n",
    "    def creditos(self):\n",
    "        print(\"Matematicas tiene 8 creditos\")"
   ]
  },
  {
   "cell_type": "code",
   "execution_count": 296,
   "id": "d0211e1f-9348-4050-bd20-702632dbbcdc",
   "metadata": {},
   "outputs": [],
   "source": [
    "class Idioma:\n",
    "    num_creditos=5\n",
    "    def creditos(self):\n",
    "        print (\"Idioma tiene 5 creditos\")"
   ]
  },
  {
   "cell_type": "markdown",
   "id": "c8830e50-0453-486f-95ae-789cec6717e1",
   "metadata": {},
   "source": [
    "Ahor vamos a crear un objeto llamado asignatura y que sea de clase Matematicas, cuantos creditos tiene?"
   ]
  },
  {
   "cell_type": "code",
   "execution_count": 300,
   "id": "769cd57b-cf15-4f19-b84c-3e7e2935ddc0",
   "metadata": {},
   "outputs": [],
   "source": [
    "asignatura=Matematicas()"
   ]
  },
  {
   "cell_type": "code",
   "execution_count": 304,
   "id": "4f942729-11dd-4c10-aadd-235931410d34",
   "metadata": {},
   "outputs": [
    {
     "name": "stdout",
     "output_type": "stream",
     "text": [
      "Matematicas tiene 8 creditos\n"
     ]
    }
   ],
   "source": [
    "asignatura.creditos()"
   ]
  },
  {
   "cell_type": "code",
   "execution_count": 306,
   "id": "51aeb6af-d25d-4a16-9e5d-181d29c78060",
   "metadata": {},
   "outputs": [
    {
     "name": "stdout",
     "output_type": "stream",
     "text": [
      "8\n"
     ]
    }
   ],
   "source": [
    "print(asignatura.num_creditos)"
   ]
  },
  {
   "cell_type": "code",
   "execution_count": 308,
   "id": "3cefcd6f-49bf-45c9-8255-d7d89a4fe6c0",
   "metadata": {},
   "outputs": [],
   "source": [
    "asig2=Idioma()"
   ]
  },
  {
   "cell_type": "code",
   "execution_count": 310,
   "id": "fe549c76-150c-454f-b3a1-03c84185da7b",
   "metadata": {},
   "outputs": [
    {
     "name": "stdout",
     "output_type": "stream",
     "text": [
      "5\n"
     ]
    }
   ],
   "source": [
    "print(asig2.num_creditos)"
   ]
  },
  {
   "cell_type": "code",
   "execution_count": 312,
   "id": "ba2bf792-33f3-4e4b-8ad5-512b85243009",
   "metadata": {},
   "outputs": [
    {
     "name": "stdout",
     "output_type": "stream",
     "text": [
      "Idioma tiene 5 creditos\n"
     ]
    }
   ],
   "source": [
    "asig2.creditos()"
   ]
  },
  {
   "cell_type": "markdown",
   "id": "5d7b3e9e-920a-4565-b58f-69cce4305851",
   "metadata": {},
   "source": [
    "Sigue el polimorfismo por método\n",
    "\n",
    "Crearemos diferentes paises, todos con el método moneda"
   ]
  },
  {
   "cell_type": "code",
   "execution_count": 317,
   "id": "ea0c9d61-6e6d-4c9a-aa57-e26e8808b7fa",
   "metadata": {},
   "outputs": [],
   "source": [
    "class Pais:\n",
    "    def moneda (self):\n",
    "        print(\"cada pais tiene su propia moneda\")\n",
    "class Honduras(Pais):\n",
    "    def moneda (self):\n",
    "        print(\"Honduras, la divisa es la lempira\")\n",
    "class Nicaragua(Pais):\n",
    "    def moneda (self):\n",
    "        print(\"En Nicaragua, la divisa es el cordova\")\n",
    "class Francia(Pais):\n",
    "    def moneda (self):\n",
    "        print(\"En Francia, la divisa es en euro\")\n",
    "\n"
   ]
  },
  {
   "cell_type": "markdown",
   "id": "f92d2df3-ca6a-4267-97a4-bdcdbf392a5f",
   "metadata": {},
   "source": [
    "Muestra los resultados"
   ]
  },
  {
   "cell_type": "code",
   "execution_count": 319,
   "id": "41ec3fdb-6519-438d-929d-627f4e53dc98",
   "metadata": {},
   "outputs": [],
   "source": [
    "divisa=Pais()"
   ]
  },
  {
   "cell_type": "code",
   "execution_count": 321,
   "id": "1b917be9-5072-4cc9-b679-c89dd939ebe4",
   "metadata": {},
   "outputs": [
    {
     "name": "stdout",
     "output_type": "stream",
     "text": [
      "cada pais tiene su propia moneda\n"
     ]
    }
   ],
   "source": [
    "divisa.moneda()"
   ]
  },
  {
   "cell_type": "code",
   "execution_count": 327,
   "id": "e1a437cc-3811-429a-808b-80f951b3e596",
   "metadata": {},
   "outputs": [],
   "source": [
    "divisa_Nicaragua=Nicaragua()"
   ]
  },
  {
   "cell_type": "code",
   "execution_count": 329,
   "id": "5048a16c-3a9f-4fa1-bacf-d75b17e1839d",
   "metadata": {},
   "outputs": [
    {
     "name": "stdout",
     "output_type": "stream",
     "text": [
      "En Nicaragua, la divisa es el cordova\n"
     ]
    }
   ],
   "source": [
    "divisa_Nicaragua.moneda()"
   ]
  },
  {
   "cell_type": "markdown",
   "id": "5e651efa-d034-44ec-980d-8425d46c37d2",
   "metadata": {},
   "source": [
    "Y checa la moneda de nicaragua"
   ]
  }
 ],
 "metadata": {
  "kernelspec": {
   "display_name": "Python 3 (ipykernel)",
   "language": "python",
   "name": "python3"
  },
  "language_info": {
   "codemirror_mode": {
    "name": "ipython",
    "version": 3
   },
   "file_extension": ".py",
   "mimetype": "text/x-python",
   "name": "python",
   "nbconvert_exporter": "python",
   "pygments_lexer": "ipython3",
   "version": "3.12.4"
  }
 },
 "nbformat": 4,
 "nbformat_minor": 5
}
