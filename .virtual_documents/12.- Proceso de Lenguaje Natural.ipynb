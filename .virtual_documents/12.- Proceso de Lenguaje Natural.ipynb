




















from textblob import TextBlob


texto="Y cuando despertó. Todo a su alrededor era luminoso"


blob=TextBlob(texto)


blob








blob.sentences #metodo para dividir texto en oraciones





blob.words #divide en palabras





texto2=TextBlob("I have good discipline to study. In the future I will be a great engineer")


texto2.words


texto2.sentences








texto2.tags #asigna etiquetas gramaticales








texto2.noun_phrases #extraer las frases con sustantivos











texto3=TextBlob("I am a bad student. I will not be able to finish my studies")


texto3.sentiment #El método .sentiment en TextBlob se utiliza para analizar el sentimiento de un texto. 

	#Polaridad: Un valor entre -1.0 y 1.0 que indica qué tan negativo o positivo es el texto.
	#1.0: Muy positivo
	#0.0: Neutro
	#-1.0: Muy negativo
	#Subjetividad: Un valor entre 0.0 y 1.0 que indica qué tan subjetivo u objetivo es el texto.
	#1.0: Muy subjetivo
	#0.0: Muy objetivo





for i in texto3.sentences:  # aqui agarramos cada oracion
    print (i.sentiment)





from textblob.sentiments import NaiveBayesAnalyzer


text3 = TextBlob("I am a bad student. I will not be able to finish my studies", analyzer=NaiveBayesAnalyzer())


text3.sentiment








from langdetect import detect
from textblob import TextBlob

# Crear un objeto TextBlob
texto4 = TextBlob("Bonjour")

# Usar langdetect para detectar el idioma del texto
idioma = detect(texto4.raw)  # 'raw' devuelve el texto subyacente de TextBlob

print(f"El idioma detectado es: {idioma}")





texto5="I have good discipline to study. In the future I will be a great engineer"


blob=TextBlob(texto5)


traducido=blob.translate(to='es')





from googletrans import Translator

# Crear un objeto traductor
translator = Translator()

# Texto que deseas traducir
texto5 = "I have good discipline to study. In the future I will be a great engineer."

# Traducir el texto al español
traducido = translator.translate(texto5, dest='es')
print(traducido.text)  # Texto traducido








from textblob import Word
vegetal=Word("potato")
vegetal.pluralize()








from textblob import Word  #piensacual sería la palabra correcta y te la probabilidad de cual podría ser
palabra=Word("whife")
palabra.spellcheck()





enunciado=TextBlob("Yestarday was a vad dai") #medio corrige pero mal
enunciado.correct()














from pathlib import Path
text=open("dracula.txt",encoding="utf-8")
libro=TextBlob(text.read())
libro.words.count("blood")


libro.words.count("crucifix")











prueba=Word("worker")
prueba.definitions





prueba.synsets #sinonimos








import nltk


nltk.download ("stopwords")


from nltk.corpus import stopwords


stops=stopwords.words("english")


print(stops)





blob =TextBlob("I have a beautiful day")





[word for word in blob.words if word not in stops]








from pathlib import Path
from textblob import TextBlob
texto=open('dracula.txt', encoding='utf-8')
libro_drac=TextBlob(texto.read())











from nltk.corpus import stopwords
stops=stopwords.words('english')














items=libro_drac.word_counts.items()








































































































import spacy
nlp = spacy.load("en_core_web_sm")








documento=nlp("Crea un documento de spacy con el texto airbnb is an American company that operates an online marketplace for lodging, primarily homestays for vacation rentals, and tourism activities. Based in San Francisco, California, the platform is accessible via website and mobile app. Airbnb does not own any of the listed properties; instead, it profits by receiving commission from each booking. The company was founded in 2008 by Brian Chesky, Nathan Blecharczyk and Joe Gebbia. Airbnb is a shortened version of its original name, AirBedandBreakfast.com")


for entity in documento.ents: #Esto es útil para extraer información estructurada de texto no estructurado, sacamos nombres propios pero faltaron algunos
    print(f'{entity.text}:{entity.label_}')
