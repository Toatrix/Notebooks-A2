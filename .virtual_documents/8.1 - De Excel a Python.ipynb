








#operaciones de pandas se pueden hacer en excel o viceversa
import pandas as pd





import numpy as np























rest_df=pd.read_excel("Datos Restaurante.xlsx")#función de l libreria pdpara leer y cargar como DF


rest_df.head(10)#funcion para mostrar las primeras filas de un DF


rest_df.tail()#funcion similar a head pero aqui se muestra los datos del DF





precios_df=pd.read_csv("Precios Restaurant.csv")


precios_df.head(20)








precios_df["Precio"]=precios_df["Precio"].str.replace("$","").astype("float")


precios_df.head(10)


precios_df["Costo"]=precios_df["Costo"].str.replace("$","").astype("float")


precios_df.head()


precios_df["Ganancias"]=precios_df["Precio"]-precios_df["Costo"]#aqui se agrega la serie ganancia


precios_df





rest_df=rest_df.drop("Hora de Cobro",axis=1)#metodo para eliminar fila o columna de un DF. Para q funcione necesita especifica si se borra una columna o una fila.
#por defecto está configurado para filas, el "1 " es para columna y el "0" para filas


rest_df





precios100_df=precios_df[precios_df["Precio"]>100]


precios100_df





precios_df["Margen"]=np.where(precios_df["Ganancias"]>100,"Alto","Bajo")#np.where es una funcion de condicion np.where(condition, [T, F])


precios_df





rest_df=rest_df.rename(columns={"Atendió":"Mesero"})#metodo 


rest_df








restprecio_df=rest_df.merge(precios_df,on=["Producto"],how="left")


restprecio_df.head(20)











meseros=rest_df["Mesero"].drop_duplicates()#metodo


meseros











ventaxcat=pd.pivot_table(restprecio_df,values="Precio",index="Categoria",aggfunc="sum")#index es como filas y Values pues valores en excel, precio se pone en valores como excel


ventaxcat





ventaxtipo=pd.pivot_table(restprecio_df,values="Precio",index="Categoria",columns="Tipo_x",aggfunc="sum")


ventaxtipo





ventaxtipomesero_df=pd.pivot_table(restprecio_df,values="Precio",index=["Tipo_x","Categoria"],columns="Mesero",aggfunc="sum")


ventaxtipomesero_df





meseromean_df=pd.pivot_table(restprecio_df,"Precio",index=["Mesero"])#por default trae mesero 


meseromean_df
