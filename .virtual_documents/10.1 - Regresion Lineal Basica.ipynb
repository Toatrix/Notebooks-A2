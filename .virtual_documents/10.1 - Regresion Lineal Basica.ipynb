








c=lambda f:5/9*(f-32)
#lambda forma de definir funcion anonima, en una sola línea. En este caso la función tiene solo un parametro llamda 'f' que representa temperatura
#f es el paramtro de la funcion 





temperaturas=[(f,c(f))for f in range (0,101,10)]


temperaturas





import pandas as pd





temps_df=pd.DataFrame(temperaturas,columns=["Farenheit","Celsius"])


temps_df.head(11)





axes=temps_df.plot(x="Farenheit",y="Celsius",style=".-")#style conexion de punto y linea
y_label=axes.set_ylabel("Celsius")














kchouse=pd.read_csv("kc_house_data.csv")





kchouse.head(10)





kchouse.tail(5)#ultimos datos





kchouse.columns=["AreaFt","Precio"]





kchouse.head(5)





from scipy import stats





reglin = stats.linregress(x=kchouse.AreaFt,y=kchouse.Precio)





reglin


reglin.slope # esta me da la pendiente, significa que por cada pie adicional de area el precio puede subir $280





reglin.intercept # te pagan por llevartelo, 








reglin.slope*1890+reglin.intercept#checar en la tabla precio original de casa 10 











import seaborn as sns





sns.set_style("whitegrid")





axes=sns.regplot(x=kchouse.AreaFt,y=kchouse.Precio)
