








with open ('seguidores.txt',mode='w') as seguidores:
    seguidores.write("@charlidamelio D’Amelio 108.1\n")
    seguidores.write("@@addisonre Addison 76.4 \n")
    seguidores.write("@zachking Zach 56.6\n")
    seguidores.write("@bellapoarch Bella 56.3\n")
#Esta línea abre (o crea si no existe) un archivo llamado seguidores.txt en modo de escritura ('w'). El modo 'w' significa que si el archivo ya existe, su contenido será borrado 
#antes de escribirle algo nuevo. El bloque with se asegura de que el archivo sea cerrado automáticamente después de que se termine de trabajar con él.
#Estas líneas escriben texto en el archivo seguidores.txt. Cada write() escribe una línea de texto en el archivo.


#para poder abrir el file desde jupyterlab usamos
with open("seguidores2.txt",mode="w",encoding='utf-8') as seguidores2:
    seguidores2.write("@charlidamelio D’Amelio 108.1\n")
    seguidores2.write("@@addisonre Addison 76.4 \n")
    seguidores2.write("@zachking Zach 56.6\n")
    seguidores2.write("@bellapoarch Bella 56.3\n")





with open("seguidores.txt",mode="r") as seguidores:
    print(f'{"user":<20}{"name":<10}{"N°_follw":>10}')#esto imprime el encabezado
    for i in seguidores:
        handle,nombre,num_seg=i.split()#Esta línea divide la línea de texto i en tres partes usando el método .split(), que separa el texto donde haya espacios en blanco.
        print(f'{handle:<20}{nombre:<10}{num_seg:>8}')#Esta línea imprime los valores extraídos de cada línea en un formato específico:





seguidores=open("seguidores.txt","r")# aqui se cambia el nombre del usuario, se debe reescribir todo el objeto
temporal=open("temporal.txt","w")
with seguidores,temporal:
    for i in seguidores:
        handle,nombre,num_seg=i.split()
        if handle!="@charlidamelio":
            temporal.write(i)
        else:
            nuevo_nombre=" ".join([handle,"Charlie",num_seg])
            temporal.write(nuevo_nombre+"\n")









#archivo JSON describe objetosq usan unas compañias para interacuar con servicios de la nube, objeto json son similares a diccionarios de python
#tambien soporta arrays con elementos separados por comas


seguidores_dicc={'seguidores':[ {'handle':'@charlidamelio', 'name':'Charlie', 'num_seg':108.1}, {'handle':'@addisonre', 'name':'Addison', 'num_seg':76.4}, {'handle':'@zachking', 'name':'Zach', 'num_seg':56.6}, {'handle':'@bellapoarch', 'name':'Bella', 'num_seg':56.3}]}





import json #importa el modulo json,(JavaScript Object Notation)
with open("seguidores.json","w") as seguidores:#El modo 'w' significa que si el archivo ya existe, su contenido será borrado 
    json.dump(seguidores_dicc,seguidores)# función json.dump() del módulo json para convertir (serializar) un diccionario,llamado seguidores_dicc, a formato JSON y escribirlo en el archivo abierto (seguidores).
seguidores





with open("seguidores.json","r") as seguidores:
    seguidores_json=json.load(seguidores)#función json.load() del módulo json para leer el contenido del archivo JSON y convertirlo (deserializarlo) en un objeto de Python 
seguidores_json#aqui vemos el diccionario





seguidores_json["seguidores"]





seguidores_json["seguidores"][0]








4/0





int("hola)








while True:
    try:#permite excepciones a errores
        numerador = int(input("Ingresa el numerador : "))
        denominador = int(input("Ingresa el denominador : "))
        cociente = numerador / denominador
    except ValueError:
        print("Debes de Ingresar 2 numeros enteros")
    except ZeroDivisionError:
        print("Hay una division entre 0")
    else:
        print(f'{numerador:.1f}/{denominador:.1f}={cociente:.1f}')
    break## Solo se rompe el bucle si no hubo excepciones





while True:
    try:
        numerador = int(input("Ingresa el numerador: "))
        denominador = int(input("Ingresa el denominador: "))
        cociente = numerador / denominador
    except ValueError:
        print("Debes ingresar 2 números enteros.")
    except ZeroDivisionError:
        print("No se puede dividir entre 0.")
    else:
        print(f'{numerador}/{denominador} = {cociente:.1f}')
    
    # Preguntar si quiere continuar
    continuar = input("¿Quieres realizar otra división? (sí/no): ").strip().lower()
    if continuar != 'sí':
        print("Programa terminado.")
        break








#Comma separated files, CSV
import csv #importa el modulo csv
with open("seguidores.csv",mode="w",newline="") as seguidores: #La opción newline="" asegura que las líneas en blanco adicionales no se inserten en el archivo CSV
    writer=csv.writer(seguidores)#Se crea un objeto writer utilizando csv.writer(), que es responsable de escribir filas en el archivo CSV,clase proporcionada por el módulo csv e
    writer.writerow(["@charlidamelio", "D’Amelio", 108.1])
    writer.writerow(["@@addisonre", "Addison", 76.4])
    writer.writerow(["@zachking", "Zach", 56.6])
    writer.writerow(["@bellapoarch", "Bella", 56.3])





with open ("seguidores.csv","r",newline="")as seguidores:
    print(f'{"Handle":<20}{"nombre":<10}{"seguidores":>10}')
    lectura=csv.reader(seguidores)
    for i in lectura:
        handle,nombre,num_seg=i
        print(f'{handle:<20}{nombre:<10}{num_seg:>10}')# el codigo de abajo es mas facil 








import pandas as pd
datosgym=pd.read_csv("datos_gimnasio.csv")





pd.set_option("display.precision",1)


datosgym.head(5)





datosgym.columns=["Codigo","Genero","Peso","Cintura","Pulso","Lagartijas","Sentadillas","Saltos"]


datosgym.head()





datosgym.describe()





datos_mujeres = datosgym[datosgym["Genero"] == "F"]
datos_mujeres





import matplotlib.pyplot as plt


grafica=datosgym.hist()



