











class Mascota : 
    # atributos
    tamaño="pequeño"
    raza="chihuahua"
    tarea="guardian"


perro=mascota()#los parentesis finales se usan para instaciar es decir crear el objeto de esa clase. Cuando defines una clase en Python, estás creando una plantilla o modelo que 
#describe un tipo de 
#En resumen, debes usar los paréntesis (perro = Mascota()) para crear una instancia de la clase Mascota. Esto es lo que te permite trabajar con un objeto que tiene todas las 
#propiedades y métodos definidos en esa clase.
#perro ahora es una instancia u objeto de la clase mascota
#mascota es la clase o plantilla 
#se puede crear nuevas instancias que serán del mismo tipo (mascota)


print(perro.raza)





setattr(perro,"tarea","amigo")


print(perro.tarea)





delattr(perro,"tarea")#si se ejecuta se borra el atributo anterior osea el de amigo 


print(perro.tarea)#aqui se imprime guardian





class Registro:
    pass #el pass significa una clase pero sin atributo





eva = Registro()
eva.edad=30
eva.experciencia=6
eva.edo_civil="soltera"


print(eva)


laura=Registro()
luis=Registro()


laura.edad=34
laura.experciencia=4
laura.edo_civil="soltera"
luis.edad=23
luis.experciencia=1
luis.edo_civil="casado"





luis.edad


laura.edo_civil





class Oferta:
    def descuento(self): #parametro self es referencia a la instancia actual de la clase, manera en q los metodos dentro de una clase pueden acceder y modificar los atributos
        self.costo=1200 #no es palabra reservada es convencion
        self.descuento=.15
#Si no usas self y simplemente escribes costo = 1200, estarías creando variables locales dentro del método, no atributos del objeto. Es decir, esas variables solo existirían 
#mientras se ejecuta el método y no serían accesibles fuera de él. Por ejemplo:

#class Oferta:
#    def descuento(self):
#        costo = 1200  # Esto es una variable local, no un atributo del objeto
#        descuento = 0.
#En este caso, costo y descuento solo existirían dentro del método descuento(), y no podrías acceder a ellos desde fuera como oferta1.costo o oferta1.descuento.
#Por eso es crucial usar self para referirte a los atributos que deben ser parte de la instancia de la clase.





rebaja=Oferta()


rebaja.descuento()





print(rebaja.costo*rebaja.descuento)








from decimal import Decimal
class Cuenta:
    def __init__(self,nombre,ahorro):
        if ahorro <Decimal ('0.00'):
            raise ValueError('El capital inicial debe ser mayor a $0')
        self.nombre=nombre
        self.ahorro=ahorro

    def deposito (self,cantidad):
        if cantidad<Decimal('0.00'):
            raise ValueError('La cantidad debe ser positiva')
        self.ahorro+=cantidad
    





cuenta1=Cuenta("Juan",2000)





print(cuenta1.nombre)


print(cuenta1.ahorro)





cuenta1.deposito(500)


print(cuenta1.ahorro)




















class Personal:
    def __init__ (self,nombre,profesion,cargo):#el metodo init es un constructor. 
        self.nombre=nombre
        self.profesion=profesion
        self.cargo=cargo
    def detalle(self):
        return'{} es un {} y tiene el cargo de {}'.format(self.nombre,self.profesion,self.cargo)








class pers_nuevo(Personal):
    def contratacion(self,contrato):
        return '{} tiene contrato:{}'.format(self.nombre,contrato)


class pers_advo(Personal):
    def contratacion(self,contrato):
        return '{} tiene contrato:{}'.format(self.nombre,contrato)





ingeniero=pers_nuevo('Paco','Ingeniero en sistemas','Supervisor')


print(ingeniero.detalle())


print(ingeniero.contratacion('Temporal'))











class Cuenta:
    def __init__(self,nombre,capital):
        if capital<0:
            raise ValueError("El capita debe ser mayor a 0")
        self.nombre=nombre
        self.capital=capital
    def informacion(self):
        return '{} tiene en su cuenta {}'.format(self.nombre,self.capital)





class Ahorro (Cuenta):
    def cantidad(self,deposito):
        if deposito<0:
            raise ValueError("La cantidad debe ser positiva")
        self.capital+=deposito
        return '{} tiene ahora en su cuenta {}'.format(self.nombre,self.capital)





class Gasto (Cuenta):
    def cantidad(self,retiro):
        if retiro<0:
            raise ValueError("La cantidad debe ser positiva")
            if retiro>capital:
                raise ValueError("No hay dinero")
        self.capital-=deposito
        return '{} tiene ahora en su cuenta {} '.format(self.nombre,self.capital)





cuenta1=Ahorro("Juan",2000)


print(cuanta1.informacion())


cuenta1.cantidad(1500)




















class Emergencia:
    def __init__(self, tipo):
        self.tipo = tipo

    def __repr__(self):
        return f'Emergencia({self.tipo!r})'

    @classmethod
    def Colombia(cls):
        return cls(['Accidente', 'Policía', 'Marque 123'])

    @classmethod
    def Salvador(cls):
        return cls(['Accidente', 'Policía', 'Marque 911'])

    @classmethod
    def Paraguay(cls):
        return cls(['Bomberos', 'Policía', 'Marque 131'])

# Imprimir la emergencia en Paraguay
print(Emergencia.Paraguay())





class Emergencia:
    def __init__(self, emergencia, numero):
        self.emergencia = emergencia
        self.numero = numero

    def __repr__(self):
        return f'Emergencia({self.emergencia}, {self.numero})'

    def pais(self):
        return self.pais_emergencia(self.numero)

    @staticmethod
    def paises(A):
        return 'Costa Rica, Ecuador, El Salvador, E.U., México'

# Creación de una instancia de Emergencia
nueva_emergencia = Emergencia(['Policía', 'Ambulancia', 'Bomberos'], 911)

# Imprimir la representación de la nueva emergencia
print(nueva_emergencia)


class Emergencia:
    def __init__(self, emergencia, numero):
        self.emergencia = emergencia
        self.numero = numero

    def __repr__(self):
        return f'Emergencia({self.emergencia}, {self.numero})'

    def pais(self):
        return self.pais_emergencia(self.numero)

    @staticmethod
    def paises(A):
        return 'Costa Rica, Ecuador, El Salvador, E.U., México'

# Creación de una instancia de Emergencia
nueva_emergencia = Emergencia(['Policía', 'Ambulancia', 'Bomberos'], 911)

# Imprimir los atributos y el resultado del método estático
print(nueva_emergencia.emergencia)  # Imprime: ['Policía', 'Ambulancia', 'Bomberos']
print(nueva_emergencia.numero)      # Imprime: 911
print(nueva_emergencia.paises(911)) # Imprime: 'Costa Rica, Ecuador, El Salvador, E.U., México'








class Matematicas:
    num_creditos=8
    def creditos(self):
        print("Matematicas tiene 8 creditos")


class Idioma:
    num_creditos=5
    def creditos(self):
        print ("Idioma tiene 5 creditos")





asignatura=Matematicas()


asignatura.creditos()


print(asignatura.num_creditos)


asig2=Idioma()


print(asig2.num_creditos)


asig2.creditos()





class Pais:
    def moneda (self):
        print("cada pais tiene su propia moneda")
class Honduras(Pais):
    def moneda (self):
        print("Honduras, la divisa es la lempira")
class Nicaragua(Pais):
    def moneda (self):
        print("En Nicaragua, la divisa es el cordova")
class Francia(Pais):
    def moneda (self):
        print("En Francia, la divisa es en euro")







divisa=Pais()


divisa.moneda()


divisa_Nicaragua=Nicaragua()


divisa_Nicaragua.moneda()



